{
 "cells": [
  {
   "cell_type": "markdown",
   "source": [
    "## Homework 2 Supplemental Notebook"
   ],
   "metadata": {}
  },
  {
   "cell_type": "markdown",
   "source": [
    "## DSC 40A, Fall 2022"
   ],
   "metadata": {}
  },
  {
   "cell_type": "code",
   "execution_count": null,
   "source": [
    "import numpy as np\n",
    "import matplotlib.pyplot as plt\n",
    "import matplotlib as mpl\n",
    "import matplotlib.animation as animation\n",
    "import ipywidgets\n",
    "from utils import gradient_descent, visualize_gradient_descent\n",
    "\n",
    "plt.style.use('ggplot')\n",
    "mpl.rcParams['figure.figsize'] = [12, 8]\n",
    "mpl.rcParams['animation.html'] = 'jshtml'"
   ],
   "outputs": [],
   "metadata": {}
  },
  {
   "cell_type": "markdown",
   "source": [
    "### Problem 4: Garage Sale (Continued!): Everything `d` Dollars!\n",
    "#### Part E"
   ],
   "metadata": {}
  },
  {
   "cell_type": "markdown",
   "source": [
    "Fill in the blanks wherever you see `# TODO`."
   ],
   "metadata": {}
  },
  {
   "cell_type": "code",
   "execution_count": null,
   "source": [
    "def maximize_money(values):\n",
    "    '''Returns the best choice of d, the price to sell your items at, \n",
    "       given a list of values of the items (i.e. a list of x_is).\n",
    "       Assumes that the list of values is sorted in non-decreasing order.\n",
    "    '''\n",
    "    n = len(values)\n",
    "    best_price = 0\n",
    "    best_money_earned = 0\n",
    "    for i in np.arange(n):\n",
    "        money_earned = ... # TODO\n",
    "        if money_earned > best_money_earned:\n",
    "            best_price = ... # TODO\n",
    "            best_money_earned = ... # TODO\n",
    "    return ... # TODO"
   ],
   "outputs": [],
   "metadata": {}
  },
  {
   "cell_type": "code",
   "execution_count": null,
   "source": [
    "maximize_money([1, 2, 4, 5, 10])"
   ],
   "outputs": [],
   "metadata": {}
  },
  {
   "cell_type": "code",
   "execution_count": null,
   "source": [
    "maximize_money([4, 10, 13, 16, 20, 21, 22, 25, 32])"
   ],
   "outputs": [],
   "metadata": {}
  },
  {
   "cell_type": "code",
   "execution_count": null,
   "source": [
    "maximize_money([3, 3, 3, 3, 9, 10, 12, 12, 15, 15])"
   ],
   "outputs": [],
   "metadata": {}
  },
  {
   "cell_type": "markdown",
   "source": [
    "### Problem 5 – Exploring Gradient Descent\n",
    "#### Part C"
   ],
   "metadata": {}
  },
  {
   "cell_type": "code",
   "execution_count": null,
   "source": [
    "def g(u):\n",
    "    '''Returns the value of g at a particular value of u.'''\n",
    "    return ... # TODO"
   ],
   "outputs": [],
   "metadata": {}
  },
  {
   "cell_type": "code",
   "execution_count": null,
   "source": [
    "def dg(u):\n",
    "    '''Returns the derivative of g at a particular value of u.'''\n",
    "    return ... # TODO"
   ],
   "outputs": [],
   "metadata": {}
  },
  {
   "cell_type": "code",
   "execution_count": null,
   "source": [
    "# Code to plot g(u) – just run this cell\n",
    "us = np.linspace(-3, 15)\n",
    "plt.figure(figsize=(5, 3), dpi=150)\n",
    "plt.plot(us, g(us))\n",
    "plt.xlabel('u')\n",
    "plt.ylabel('g(u)')"
   ],
   "outputs": [],
   "metadata": {}
  },
  {
   "cell_type": "markdown",
   "source": [
    "#### Part D\n",
    "\n",
    "Make sure you've completed part c) before moving onto part d).\n",
    "\n",
    "You don't need to understand how the function `visualize_gradient_descent ` works (though its implementation is in `utils.py` if you're curious).\n",
    "\n",
    "All you need to do, as per the instructions in the assignment PDF, is change the values of h_0 and alpha. Re-run the cell each time you change any arguments. Click the play button to start the animation."
   ],
   "metadata": {}
  },
  {
   "cell_type": "code",
   "execution_count": null,
   "source": [
    "visualize_gradient_descent(\n",
    "    f=g,\n",
    "    derivative_of_f=dg,\n",
    "    h_0=5,    # TODO: change this value\n",
    "    alpha=0.01, # TODO: change this value\n",
    "    n_iters=60,\n",
    "    interval_size=2,\n",
    "    domain=np.linspace(-3, 16),\n",
    "    arrow_height=0.05\n",
    ")"
   ],
   "outputs": [],
   "metadata": {}
  },
  {
   "cell_type": "markdown",
   "source": [
    "For help with the second subquestion (what happens when you set alpha = 0.1), you can call the following function, which will write out the guess for \n",
    "u\n",
    "∗\n",
    " at each step."
   ],
   "metadata": {}
  },
  {
   "cell_type": "code",
   "execution_count": null,
   "source": [
    "gradient_descent(\n",
    "    derivative_of_f=dg,\n",
    "    h_0=..., # TODO: put an initial guess here\n",
    "    alpha=0.1,\n",
    "    verbose=True\n",
    ")"
   ],
   "outputs": [],
   "metadata": {}
  }
 ],
 "metadata": {
  "kernelspec": {
   "display_name": "Python 3 (ipykernel)",
   "language": "python",
   "name": "python3"
  },
  "language_info": {
   "codemirror_mode": {
    "name": "ipython",
    "version": 3
   },
   "file_extension": ".py",
   "mimetype": "text/x-python",
   "name": "python",
   "nbconvert_exporter": "python",
   "pygments_lexer": "ipython3",
   "version": "3.9.7"
  }
 },
 "nbformat": 4,
 "nbformat_minor": 5
}