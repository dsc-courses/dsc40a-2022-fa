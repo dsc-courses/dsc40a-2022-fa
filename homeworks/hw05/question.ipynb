{
 "cells": [
  {
   "cell_type": "markdown",
   "source": [
    "# Homework 5 Supplemental Notebook\n",
    "\n",
    "## DSC 40A, Fall 2022"
   ],
   "metadata": {}
  },
  {
   "cell_type": "code",
   "execution_count": null,
   "source": [
    "import pandas as pd\n",
    "import numpy as np\n",
    "import plotly.express as px\n",
    "import plotly.graph_objects as go"
   ],
   "outputs": [],
   "metadata": {}
  },
  {
   "cell_type": "markdown",
   "source": [
    "## Problem 1 – Transformation Tuesday"
   ],
   "metadata": {}
  },
  {
   "cell_type": "markdown",
   "source": [
    "Here are the same helper functions we gave you in Homework 4."
   ],
   "metadata": {}
  },
  {
   "cell_type": "code",
   "execution_count": null,
   "source": [
    "def solve_normal_equations(X, y):\n",
    "    '''Returns the optimal parameter vector, w*, given a design matrix X and observation vector y.'''\n",
    "    return np.linalg.solve(X.T @ X, X.T @ y)\n",
    "\n",
    "def create_design_matrix(df, columns, intercept=True):\n",
    "    '''Creates a design matrix by taking the specified columns from the DataFrame df.\n",
    "       Adds a column of all 1s as the first column if intercept is True, which is the default.\n",
    "       The argument columns should be a list.\n",
    "    '''\n",
    "    df = df.copy()\n",
    "    df['1'] = 1\n",
    "    if intercept:\n",
    "        return df[['1'] + columns].values\n",
    "    else:\n",
    "        return df[columns].values\n",
    "    \n",
    "def mean_squared_error(X, y, w):\n",
    "    '''Returns the mean squared error of the predictions Xw and observations y.'''\n",
    "    return np.mean((y - X @ w)**2)"
   ],
   "outputs": [],
   "metadata": {}
  },
  {
   "cell_type": "markdown",
   "source": [
    "Here are two new functions – the logistic function, `sigma`, and its inverse, `sigma_inv`. Note that both functions are **vectorized**, meaning that if you give them an array as input, you will get an array back as output."
   ],
   "metadata": {}
  },
  {
   "cell_type": "code",
   "execution_count": null,
   "source": [
    "def sigma(x):\n",
    "    return 1 / (1 + np.e**(-x))\n",
    "\n",
    "def sigma_inv(x):\n",
    "    return np.log((x / (1 - x)))"
   ],
   "outputs": [],
   "metadata": {}
  },
  {
   "cell_type": "markdown",
   "source": [
    "Now, let's load in our data."
   ],
   "metadata": {}
  },
  {
   "cell_type": "code",
   "execution_count": null,
   "source": [
    "logistic_data = pd.read_csv('data/logistic_data.csv')\n",
    "logistic_data"
   ],
   "outputs": [],
   "metadata": {}
  },
  {
   "cell_type": "markdown",
   "source": [
    "Here's a scatter plot of it:"
   ],
   "metadata": {}
  },
  {
   "cell_type": "code",
   "execution_count": null,
   "source": [
    "px.scatter(logistic_data, x='x', y='y')"
   ],
   "outputs": [],
   "metadata": {}
  },
  {
   "cell_type": "markdown",
   "source": [
    "### Part C\n",
    "\n",
    "<p style=\"color:red\"><b>Your Job</b></p>\n",
    "\n",
    "Assign `X` and `z` below to the design matrix and observation vector such that `solve_normal_equations(X, z)` will give us our optimal parameter vector. In your PDF writeup, provide a screenshot of the code you wrote as well as of the resulting visualization.\n",
    "\n",
    "_Hint: Remember that `sigma` and `sigma_inv` are vectorized, as noted above, and that we've defined `create_design_matrix` for you. Each definition should only take one line. **Don't use a `for`-loop!**_"
   ],
   "metadata": {}
  },
  {
   "cell_type": "code",
   "execution_count": null,
   "source": [
    "X = ... # TODO\n",
    "X"
   ],
   "outputs": [],
   "metadata": {}
  },
  {
   "cell_type": "code",
   "execution_count": null,
   "source": [
    "z = ... # TODO\n",
    "z"
   ],
   "outputs": [],
   "metadata": {}
  },
  {
   "cell_type": "markdown",
   "source": [
    "Once you answer the above two parts, you should be able to run the following two cells to see the value of $\\vec{w}^*$ and a fit version of our prediction rule."
   ],
   "metadata": {}
  },
  {
   "cell_type": "code",
   "execution_count": null,
   "source": [
    "w_logistic = solve_normal_equations(X, z)\n",
    "w_logistic"
   ],
   "outputs": [],
   "metadata": {}
  },
  {
   "cell_type": "code",
   "execution_count": null,
   "source": [
    "x_range = np.linspace(-11, 5)\n",
    "\n",
    "fig = go.Figure()\n",
    "fig.add_trace(go.Scatter(x = logistic_data['x'], y = logistic_data['y'], mode = 'markers', name = 'actual'))\n",
    "fig.add_trace(go.Scatter(x = x_range, \n",
    "                         y = sigma(w_logistic[0] + w_logistic[1] * x_range), \n",
    "                         name = 'prediction rule', \n",
    "                         line=dict(color='red')))\n",
    "\n",
    "fig.update_layout(xaxis_title = 'Total Bill', yaxis_title = 'Tip')"
   ],
   "outputs": [],
   "metadata": {}
  },
  {
   "cell_type": "markdown",
   "source": [
    "Nice!"
   ],
   "metadata": {}
  },
  {
   "cell_type": "markdown",
   "source": [
    "## Problem 2 – What do you k-mean?"
   ],
   "metadata": {}
  },
  {
   "cell_type": "markdown",
   "source": [
    "### Part B\n",
    "\n",
    "**Note that you don't need to write any code yourself in this question.**\n",
    "\n",
    "Run the cell below to load in our dataset, which contains many (209) attributes for each country, taken from [here](https://databank.worldbank.org/source/world-development-indicators#)."
   ],
   "metadata": {}
  },
  {
   "cell_type": "code",
   "execution_count": null,
   "source": [
    "world_bank = pd.read_csv('data/world_bank_data.csv') \\\n",
    "                .set_index('country') \\\n",
    "                .fillna(0) # There are null values in the dataset; .fillna(0) replaces them with 0s\n",
    "world_bank"
   ],
   "outputs": [],
   "metadata": {}
  },
  {
   "cell_type": "markdown",
   "source": [
    "Let's try and cluster this dataset. Note that there's no easy way to visualize the dataset before clustering since it is 209-dimensional. We will use the KMeans method built into `scikit-learn`, a popular Python library for machine learning."
   ],
   "metadata": {}
  },
  {
   "cell_type": "code",
   "execution_count": null,
   "source": [
    "from sklearn.cluster import KMeans"
   ],
   "outputs": [],
   "metadata": {}
  },
  {
   "cell_type": "markdown",
   "source": [
    "Run the cell below to perform the clustering and create a DataFrame with the results. (`random_state=42` ensures that we get the same results every time we run this cell.)"
   ],
   "metadata": {}
  },
  {
   "cell_type": "code",
   "execution_count": null,
   "source": [
    "world_bank_clustering = KMeans(n_clusters=4, random_state=42).fit(world_bank)\n",
    "countries_and_labels = pd.DataFrame(index=world_bank.index) \\\n",
    "                         .assign(cluster=world_bank_clustering.labels_.astype(str))"
   ],
   "outputs": [],
   "metadata": {}
  },
  {
   "cell_type": "code",
   "execution_count": null,
   "source": [
    "countries_and_labels"
   ],
   "outputs": [],
   "metadata": {}
  },
  {
   "cell_type": "markdown",
   "source": [
    "Now we have a cluster for each country, but it's kind of hard to tell which country is in which cluster. Run the cell below to see a map."
   ],
   "metadata": {}
  },
  {
   "cell_type": "code",
   "execution_count": null,
   "source": [
    "px.choropleth(countries_and_labels.reset_index(),\n",
    "              locations = 'country',\n",
    "              locationmode = 'country names',\n",
    "              color = 'cluster',\n",
    "              hover_name = 'country',\n",
    "              title = 'Country Clusters',\n",
    "              category_orders = {'cluster': ['0', '1', '2', '3']}\n",
    ")"
   ],
   "outputs": [],
   "metadata": {}
  },
  {
   "cell_type": "markdown",
   "source": [
    "If you aren't the greatest at geography, don't worry – you can hover over a country to see its name.\n",
    "\n",
    "If you'd prefer, you can look at the cluster assignments in text form below."
   ],
   "metadata": {}
  },
  {
   "cell_type": "code",
   "execution_count": null,
   "source": [
    "# Run this cell.\n",
    "def show_all_clusters(cluster_df):\n",
    "    for v in sorted(np.unique(cluster_df.get('cluster'))):\n",
    "        print(f'Cluster {v}:', list(cluster_df[cluster_df.get('cluster') == v].get('cluster').index), '\\n')\n",
    "        \n",
    "show_all_clusters(countries_and_labels)"
   ],
   "outputs": [],
   "metadata": {}
  },
  {
   "cell_type": "markdown",
   "source": [
    "You may notice an issue – the vast majority of countries are in the same cluster! That's not all that useful.\n",
    "\n",
    "It turns out that if we **standardize** our data, as we do when computing standardized regression coefficients, the results turn out different. Run the cells below to standardize our dataset and re-run k-means clustering."
   ],
   "metadata": {}
  },
  {
   "cell_type": "code",
   "execution_count": null,
   "source": [
    "world_bank_standardized = (world_bank - np.mean(world_bank, axis=0)) / np.std(world_bank, axis=0)\n",
    "world_bank_standardized"
   ],
   "outputs": [],
   "metadata": {}
  },
  {
   "cell_type": "code",
   "execution_count": null,
   "source": [
    "world_bank_standardized_clustering = KMeans(n_clusters=4, random_state=42).fit(world_bank_standardized)\n",
    "countries_and_labels_standardized = pd.DataFrame(index=world_bank_standardized.index) \\\n",
    "                                      .assign(cluster=world_bank_standardized_clustering.labels_.astype(str))"
   ],
   "outputs": [],
   "metadata": {}
  },
  {
   "cell_type": "markdown",
   "source": [
    "We can draw the same map as before:"
   ],
   "metadata": {}
  },
  {
   "cell_type": "code",
   "execution_count": null,
   "source": [
    "px.choropleth(countries_and_labels_standardized.reset_index(),\n",
    "              locations = 'country',\n",
    "              locationmode = 'country names',\n",
    "              color = 'cluster',\n",
    "              hover_name = 'country',\n",
    "              title = 'Country Clusters After Standardization',\n",
    "              category_orders = {'cluster': ['0', '1', '2', '3']}\n",
    ")"
   ],
   "outputs": [],
   "metadata": {}
  },
  {
   "cell_type": "markdown",
   "source": [
    "Note that in this new map, the clusters are a bit more \"even\" in terms of the number of countries in them. (The cluster numbers and colors are arbitrary, meaning that purple in the previous map is not related to purple in this map.)"
   ],
   "metadata": {}
  },
  {
   "cell_type": "code",
   "execution_count": null,
   "source": [
    "show_all_clusters(countries_and_labels_standardized)"
   ],
   "outputs": [],
   "metadata": {}
  },
  {
   "cell_type": "markdown",
   "source": [
    "<p style=\"color:red\"><b>Your Job</b></p>\n",
    "\n",
    "In your PDF writeup, write the answers to the following two questions:\n",
    "\n",
    "(i) Come up with a simple description for each of the 4 clusters created after standardizing our features.\n",
    "\n",
    "(ii) Why do you think standardizing our features before clustering had such an impact? (_Hint: Scroll up and compare the values in `world_bank` to those in `world_bank_standardized`.)"
   ],
   "metadata": {}
  }
 ],
 "metadata": {
  "kernelspec": {
   "name": "python3",
   "display_name": "Python 3.8.9 64-bit"
  },
  "language_info": {
   "codemirror_mode": {
    "name": "ipython",
    "version": 3
   },
   "file_extension": ".py",
   "mimetype": "text/x-python",
   "name": "python",
   "nbconvert_exporter": "python",
   "pygments_lexer": "ipython3",
   "version": "3.8.9"
  },
  "interpreter": {
   "hash": "31f2aee4e71d21fbe5cf8b01ff0e069b9275f58929596ceb00d14d90e3e16cd6"
  }
 },
 "nbformat": 4,
 "nbformat_minor": 4
}